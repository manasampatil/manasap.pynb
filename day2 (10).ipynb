{
  "nbformat": 4,
  "nbformat_minor": 0,
  "metadata": {
    "colab": {
      "provenance": []
    },
    "kernelspec": {
      "name": "python3",
      "display_name": "Python 3"
    },
    "language_info": {
      "name": "python"
    }
  },
  "cells": [
    {
      "cell_type": "markdown",
      "source": [
        "**Control Flow and Loops**\n",
        "conditional statements"
      ],
      "metadata": {
        "id": "ld6XaMvm0Jnj"
      }
    },
    {
      "cell_type": "markdown",
      "source": [
        "**if else statement**"
      ],
      "metadata": {
        "id": "TxhauDLR2QcD"
      }
    },
    {
      "cell_type": "code",
      "source": [
        "age=18\n",
        "if age>=18:\n",
        "    print(\"you are eligible to vote.\")"
      ],
      "metadata": {
        "colab": {
          "base_uri": "https://localhost:8080/"
        },
        "id": "HG0dETdH1qj7",
        "outputId": "1055674c-ecbf-4e10-ac90-e39a0b5ec523"
      },
      "execution_count": null,
      "outputs": [
        {
          "output_type": "stream",
          "name": "stdout",
          "text": [
            "you are eligible to vote.\n"
          ]
        }
      ]
    },
    {
      "cell_type": "code",
      "source": [
        "num=int(input(\"enter a number: \"))\n",
        "if num%2==0:\n",
        "   print(\"even number\")\n",
        "else:\n",
        "   print(\"odd number\")"
      ],
      "metadata": {
        "colab": {
          "base_uri": "https://localhost:8080/"
        },
        "id": "hA-W53HL2UgK",
        "outputId": "1819f3fd-24b8-4e68-ebed-238fc2d3dfd8"
      },
      "execution_count": null,
      "outputs": [
        {
          "output_type": "stream",
          "name": "stdout",
          "text": [
            "enter a number: 4\n",
            "even number\n"
          ]
        }
      ]
    },
    {
      "cell_type": "markdown",
      "source": [
        "**if-elif-else statement**"
      ],
      "metadata": {
        "id": "KFQOSPuV3IF7"
      }
    },
    {
      "cell_type": "code",
      "source": [
        "marks=int(input(\"enter your marks: \"))\n",
        "if marks>=90:\n",
        "  print(\"Grade: A\")\n",
        "elif marks>=75:\n",
        "  print(\"Grade: B\")\n",
        "elif marks>=50:\n",
        "  print(\"Grade: C\")\n",
        "else:\n",
        "  print(\"Grade: F\")"
      ],
      "metadata": {
        "colab": {
          "base_uri": "https://localhost:8080/"
        },
        "id": "HodgxMth3gSj",
        "outputId": "162d8e8a-f21b-4143-ba96-8285a2bf2ba7"
      },
      "execution_count": null,
      "outputs": [
        {
          "output_type": "stream",
          "name": "stdout",
          "text": [
            "enter your marks: 55\n",
            "Grade: C\n"
          ]
        }
      ]
    },
    {
      "cell_type": "markdown",
      "source": [
        "**Loops**\n",
        "for loop"
      ],
      "metadata": {
        "id": "caqN_pQb4-YS"
      }
    },
    {
      "cell_type": "code",
      "source": [
        "for i in range(5):\n",
        "  print(\"Iteration:\",i)"
      ],
      "metadata": {
        "colab": {
          "base_uri": "https://localhost:8080/"
        },
        "id": "OSe9ra8N5Ykz",
        "outputId": "645a06ef-0c6e-4603-c390-20d8b2738b35"
      },
      "execution_count": null,
      "outputs": [
        {
          "output_type": "stream",
          "name": "stdout",
          "text": [
            "Iteration: 0\n",
            "Iteration: 1\n",
            "Iteration: 2\n",
            "Iteration: 3\n",
            "Iteration: 4\n"
          ]
        }
      ]
    },
    {
      "cell_type": "code",
      "source": [
        "for i in range(5,10):\n",
        "  print(\"Iterearation:\", i)"
      ],
      "metadata": {
        "colab": {
          "base_uri": "https://localhost:8080/"
        },
        "id": "nXODxCJu6n6q",
        "outputId": "fa0a159d-eeb1-4476-c61a-ee94f17c0607"
      },
      "execution_count": null,
      "outputs": [
        {
          "output_type": "stream",
          "name": "stdout",
          "text": [
            "Iterearation: 5\n",
            "Iterearation: 6\n",
            "Iterearation: 7\n",
            "Iterearation: 8\n",
            "Iterearation: 9\n"
          ]
        }
      ]
    },
    {
      "cell_type": "code",
      "source": [
        "for i in range(5,50,5):\n",
        "  print(\"Iteration:\", i)"
      ],
      "metadata": {
        "colab": {
          "base_uri": "https://localhost:8080/"
        },
        "id": "WCFiqdZL7Fzy",
        "outputId": "10821df3-18ef-4a77-c381-09bd5896b74f"
      },
      "execution_count": null,
      "outputs": [
        {
          "output_type": "stream",
          "name": "stdout",
          "text": [
            "Iteration: 5\n",
            "Iteration: 10\n",
            "Iteration: 15\n",
            "Iteration: 20\n",
            "Iteration: 25\n",
            "Iteration: 30\n",
            "Iteration: 35\n",
            "Iteration: 40\n",
            "Iteration: 45\n"
          ]
        }
      ]
    },
    {
      "cell_type": "markdown",
      "source": [
        "**while loop**"
      ],
      "metadata": {
        "id": "kDa41cP07oPb"
      }
    },
    {
      "cell_type": "code",
      "source": [
        "count = 0\n",
        "while count < 5:\n",
        "  print(\"count:\", count)\n",
        "  count += 1"
      ],
      "metadata": {
        "colab": {
          "base_uri": "https://localhost:8080/"
        },
        "id": "lTwgrNaA73Jy",
        "outputId": "cc847701-419c-4eba-a68b-e29d5157f50d"
      },
      "execution_count": null,
      "outputs": [
        {
          "output_type": "stream",
          "name": "stdout",
          "text": [
            "count: 0\n",
            "count: 1\n",
            "count: 2\n",
            "count: 3\n",
            "count: 4\n"
          ]
        }
      ]
    },
    {
      "cell_type": "markdown",
      "source": [
        "**control flow tools**"
      ],
      "metadata": {
        "id": "gTjn80nI8aJS"
      }
    },
    {
      "cell_type": "code",
      "source": [
        "#break\n",
        "for i in range(10):\n",
        "  if i == 5:\n",
        "    break\n",
        "  print(i)"
      ],
      "metadata": {
        "colab": {
          "base_uri": "https://localhost:8080/"
        },
        "id": "WQGu8PKV8iPa",
        "outputId": "92a78881-efc4-41b0-8770-f021dbbeb555"
      },
      "execution_count": null,
      "outputs": [
        {
          "output_type": "stream",
          "name": "stdout",
          "text": [
            "0\n",
            "1\n",
            "2\n",
            "3\n",
            "4\n"
          ]
        }
      ]
    },
    {
      "cell_type": "markdown",
      "source": [
        "**continue**"
      ],
      "metadata": {
        "id": "es1rroHw9MQ0"
      }
    },
    {
      "cell_type": "code",
      "source": [
        "#continue\n",
        "for i in range(10):\n",
        "  if i==5:\n",
        "    continue\n",
        "  print(i)"
      ],
      "metadata": {
        "colab": {
          "base_uri": "https://localhost:8080/"
        },
        "id": "PxlU3Nbm9YSS",
        "outputId": "7c35a9f9-2093-4c9c-e763-d7ff241d5690"
      },
      "execution_count": null,
      "outputs": [
        {
          "output_type": "stream",
          "name": "stdout",
          "text": [
            "0\n",
            "1\n",
            "2\n",
            "3\n",
            "4\n",
            "6\n",
            "7\n",
            "8\n",
            "9\n"
          ]
        }
      ]
    },
    {
      "cell_type": "markdown",
      "source": [
        "**pass**"
      ],
      "metadata": {
        "id": "EFVrF0kY-Iy6"
      }
    },
    {
      "cell_type": "code",
      "source": [
        "#pass\n",
        "for i in range(10):\n",
        "  if i==5:\n",
        "    pass\n",
        "  print(i)"
      ],
      "metadata": {
        "colab": {
          "base_uri": "https://localhost:8080/"
        },
        "id": "nWSIOB9O-MuT",
        "outputId": "cf075b1b-91c6-47a3-ebc5-4571d636e226"
      },
      "execution_count": null,
      "outputs": [
        {
          "output_type": "stream",
          "name": "stdout",
          "text": [
            "0\n",
            "1\n",
            "2\n",
            "3\n",
            "4\n",
            "5\n",
            "6\n",
            "7\n",
            "8\n",
            "9\n"
          ]
        }
      ]
    },
    {
      "cell_type": "markdown",
      "source": [
        "**Hands on practice**"
      ],
      "metadata": {
        "id": "p8bIUmW5CQl7"
      }
    },
    {
      "cell_type": "markdown",
      "source": [
        "**odd or even**"
      ],
      "metadata": {
        "id": "wziXe_UFdpI7"
      }
    },
    {
      "cell_type": "markdown",
      "source": [],
      "metadata": {
        "id": "t9vPiIBNdr8w"
      }
    },
    {
      "cell_type": "code",
      "source": [
        "number=int(input(\"enter a number:\"))\n",
        "if number%2==0:\n",
        "  print(\"the number is even.\")\n",
        "else:\n",
        "  print(\"the number is odd.\")"
      ],
      "metadata": {
        "colab": {
          "base_uri": "https://localhost:8080/"
        },
        "id": "Z7N5ydNOCVir",
        "outputId": "aaf76bdb-f4c9-4209-f408-f42a3726596a"
      },
      "execution_count": null,
      "outputs": [
        {
          "output_type": "stream",
          "name": "stdout",
          "text": [
            "enter a number:5\n",
            "the number is odd.\n"
          ]
        }
      ]
    },
    {
      "cell_type": "markdown",
      "source": [
        "**sum of numbers in given range**\n"
      ],
      "metadata": {
        "id": "M0F4cXrWDN_S"
      }
    },
    {
      "cell_type": "code",
      "source": [
        "number=int(input(\"enter a number:\"))\n",
        "if number%2==0:\n",
        "  print(\"the number is even.\")\n",
        "else:\n",
        "  print(\"the number is odd.\")"
      ],
      "metadata": {
        "colab": {
          "base_uri": "https://localhost:8080/"
        },
        "id": "Rh_oxiyvDT90",
        "outputId": "c7a43de4-0313-43cf-e3b4-06a89626783b"
      },
      "execution_count": null,
      "outputs": [
        {
          "output_type": "stream",
          "name": "stdout",
          "text": [
            "enter the start of the range: 5\n",
            "enter the end of the range: 10\n",
            "the sum is: 45\n"
          ]
        }
      ]
    },
    {
      "cell_type": "markdown",
      "source": [
        "**sum of factorial**"
      ],
      "metadata": {
        "id": "4Q06g-9EFvda"
      }
    },
    {
      "cell_type": "code",
      "source": [
        "number=int(input(\"eneter a number:\"))\n",
        "factorial=1\n",
        "for i in range(1,number+1):\n",
        "  factorial*=i\n",
        "print(\"the factorial is:\",factorial)"
      ],
      "metadata": {
        "colab": {
          "base_uri": "https://localhost:8080/"
        },
        "id": "aRnOIE0xFFFj",
        "outputId": "27073251-93f4-4a4d-938d-08536e081f54"
      },
      "execution_count": null,
      "outputs": [
        {
          "output_type": "stream",
          "name": "stdout",
          "text": [
            "eneter a number:5\n",
            "the factorial is: 120\n"
          ]
        }
      ]
    },
    {
      "cell_type": "markdown",
      "source": [
        "**Fibonacci Sequence**"
      ],
      "metadata": {
        "id": "pNTKY26JH_2a"
      }
    },
    {
      "cell_type": "code",
      "source": [
        "n=int(input(\"enter the number of terms:\"))\n",
        "a,b=0,1\n",
        "for i in range(n):\n",
        "  print(a,end=\" \")\n",
        "  a,b=b,a+b"
      ],
      "metadata": {
        "colab": {
          "base_uri": "https://localhost:8080/"
        },
        "id": "qptEgiHYIEj6",
        "outputId": "f064d596-1457-4923-c00b-263dc08d62b9"
      },
      "execution_count": null,
      "outputs": [
        {
          "output_type": "stream",
          "name": "stdout",
          "text": [
            "enter the number of terms:5\n",
            "0 1 1 2 3 "
          ]
        }
      ]
    },
    {
      "cell_type": "markdown",
      "source": [
        "**simple calculator using if-else**\n"
      ],
      "metadata": {
        "id": "TVeDU88EUlWi"
      }
    },
    {
      "cell_type": "code",
      "source": [
        "num1=float(input(\"enter first number:\"))\n",
        "num2=float(input(\"enter second number:\"))\n",
        "operation=input(\"enter operation(+,-,*,/,%,**-):\")\n",
        "if operation=='+':\n",
        "  print(\"result:\",num1+num2)\n",
        "elif operation=='-':\n",
        "  print(\"result:\",num1-num2)\n",
        "elif operation=='*':\n",
        "  print(\"resuil:\",num1*num2)\n",
        "elif operation=='/':\n",
        "  print(\"result:\",num1/num2)\n",
        "elif operation=='%':\n",
        "  print(\"result:\",num%num2)\n",
        "elif operation=='**':\n",
        "  print(\"result:\",num**num2)\n",
        "else:\n",
        "  print(\"invalid operation\")"
      ],
      "metadata": {
        "colab": {
          "base_uri": "https://localhost:8080/"
        },
        "id": "FhRziVldUrVR",
        "outputId": "a5a8d7d9-7901-4125-a1e6-2e9776f2a98d"
      },
      "execution_count": null,
      "outputs": [
        {
          "output_type": "stream",
          "name": "stdout",
          "text": [
            "enter first number:6\n",
            "enter second number:9\n",
            "enter operation(+,-,*,/,%,**):+\n",
            "result: 15.0\n"
          ]
        }
      ]
    },
    {
      "cell_type": "markdown",
      "source": [
        "**leap year**"
      ],
      "metadata": {
        "id": "DRSxRN_2d0wY"
      }
    },
    {
      "cell_type": "code",
      "source": [
        "year=int(input(\"enter a year:\"))\n",
        "if(year%4==0 and year%100!=0)or(year%400==0):\n",
        "  print(\"leap year:\")\n",
        "else:\n",
        "  print(\"not a leap year\")"
      ],
      "metadata": {
        "colab": {
          "base_uri": "https://localhost:8080/"
        },
        "id": "qt0FZmeNd5z6",
        "outputId": "893518e9-0534-4b09-d4d5-687a807ed5ce"
      },
      "execution_count": null,
      "outputs": [
        {
          "output_type": "stream",
          "name": "stdout",
          "text": [
            "enter a year:1996\n",
            "leap year:\n"
          ]
        }
      ]
    },
    {
      "cell_type": "markdown",
      "source": [
        "**find the largest of three numbers**"
      ],
      "metadata": {
        "id": "L6Yi_m9SgU7B"
      }
    },
    {
      "cell_type": "code",
      "source": [
        "num1=float(input(\"enter first number:\"))\n",
        "num1=float(input(\"enter second number:\"))\n",
        "num1=float(input(\"enter third number:\"))\n",
        "if num1>=num2 and num1>=num3:\n",
        "  print(\"largest number is:\",num1)\n",
        "elif  num>=num3:\n",
        "  print(\"largest number is:\",num2)\n",
        "else:\n",
        "  print(\"largest number is:\",num3)"
      ],
      "metadata": {
        "colab": {
          "base_uri": "https://localhost:8080/"
        },
        "id": "IrhYqm3tim3x",
        "outputId": "4b43ec2e-7ecf-45a2-e4b4-b89d207752cd"
      },
      "execution_count": null,
      "outputs": [
        {
          "output_type": "stream",
          "name": "stdout",
          "text": [
            "enter first number:4\n",
            "enter second number:5\n",
            "enter third number:7\n",
            "largest number is: 7.0\n"
          ]
        }
      ]
    },
    {
      "cell_type": "markdown",
      "source": [
        "**sum of all even numbers in a range**"
      ],
      "metadata": {
        "id": "OrhXS58sjvAR"
      }
    },
    {
      "cell_type": "code",
      "source": [
        "start=int(input(\"enter start of range:\"))\n",
        "end=int(input(\"enter end of range:\"))\n",
        "even_sum=0\n",
        "for num in range(start,end+1):\n",
        "  if num%2==0:\n",
        "    even_sum+=num\n",
        "print('sum of even numbers:',even_sum)"
      ],
      "metadata": {
        "colab": {
          "base_uri": "https://localhost:8080/"
        },
        "id": "hnEORWmbj4qB",
        "outputId": "927f4a2a-6b35-4ab4-ccdd-a8fb6c0ff1e9"
      },
      "execution_count": null,
      "outputs": [
        {
          "output_type": "stream",
          "name": "stdout",
          "text": [
            "enter start of range:5\n",
            "enter end of range:6\n",
            "sum of even numbers: 6\n"
          ]
        }
      ]
    }
  ]
}